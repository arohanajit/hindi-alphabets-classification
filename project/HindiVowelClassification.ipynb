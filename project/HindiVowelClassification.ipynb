{
  "nbformat": 4,
  "nbformat_minor": 0,
  "metadata": {
    "colab": {
      "name": "HindiVowelClassification.ipynb",
      "provenance": [],
      "private_outputs": true,
      "collapsed_sections": [],
      "include_colab_link": true
    },
    "kernelspec": {
      "name": "python3",
      "display_name": "Python 3"
    },
    "accelerator": "GPU"
  },
  "cells": [
    {
      "cell_type": "markdown",
      "metadata": {
        "id": "view-in-github",
        "colab_type": "text"
      },
      "source": [
        "<a href=\"https://colab.research.google.com/github/arohanajit/hindi-alphabets-classification/blob/master/project/HindiVowelClassification.ipynb\" target=\"_parent\"><img src=\"https://colab.research.google.com/assets/colab-badge.svg\" alt=\"Open In Colab\"/></a>"
      ]
    },
    {
      "cell_type": "code",
      "metadata": {
        "id": "SRb3CSg6nU_x",
        "colab_type": "code",
        "colab": {}
      },
      "source": [
        "import os\n",
        "import shutil\n",
        "from zipfile import ZipFile\n",
        "from PIL import Image\n",
        "import matplotlib.pyplot as plt\n",
        "import numpy as np\n",
        "\n",
        "import torch\n",
        "import torchvision\n",
        "from torch.utils.data import DataLoader, Dataset, random_split\n",
        "import torchvision.transforms as transforms\n",
        "import torch.nn as nn\n",
        "import torch.nn.functional as F\n",
        "import torch.optim as optim\n",
        "from torchvision import datasets\n",
        "import torchvision.transforms as transforms\n",
        "from tqdm import tqdm_notebook\n",
        "import copy\n",
        "train_on_gpu = torch.cuda.is_available()"
      ],
      "execution_count": 0,
      "outputs": []
    },
    {
      "cell_type": "code",
      "metadata": {
        "id": "LHqK84msKjiX",
        "colab_type": "code",
        "colab": {}
      },
      "source": [
        "if 'dataset' not in os.listdir():\n",
        "    os.environ['KAGGLE_USERNAME'] = \"arohanajit232\" # username from the json file\n",
        "    os.environ['KAGGLE_KEY'] = \"5289e13af33762d697c1d3c18c444f52\" # key from the json file\n",
        "    os.system('kaggle competitions download -c padhai-hindi-vowel-consonant-classification')\n",
        "    with ZipFile('test.zip', 'r') as zipObj:\n",
        "        zipObj.extractall()\n",
        "    with ZipFile('train.zip', 'r') as zipObj:\n",
        "        zipObj.extractall()\n",
        "    os.mkdir('dataset')\n",
        "    shutil.move('train','dataset/')\n",
        "    shutil.move('test','dataset/')\n",
        "    os.remove('train.zip')\n",
        "    os.remove('test.zip')\n",
        "    print(os.listdir(\"dataset\"))\n",
        "else:\n",
        "    print(\"Dataset already present!\",os.listdir(\"dataset\"))"
      ],
      "execution_count": 0,
      "outputs": []
    },
    {
      "cell_type": "code",
      "metadata": {
        "id": "eo3d93IzEVZz",
        "colab_type": "code",
        "colab": {}
      },
      "source": [
        "#For converting the dataset to torchvision dataset format\n",
        "class VowelConsonantDataset(Dataset):\n",
        "    def __init__(self, file_path,train=True,transform=None):\n",
        "        self.transform = transform\n",
        "        self.file_path=file_path\n",
        "        self.train=train\n",
        "        self.file_names=[file for _,_,files in os.walk(self.file_path) for file in files]\n",
        "        self.len = len(self.file_names)\n",
        "        if self.train:\n",
        "            self.classes_mapping=self.get_classes()\n",
        "    def __len__(self):\n",
        "        return len(self.file_names)\n",
        "    \n",
        "    def __getitem__(self, index):\n",
        "        file_name=self.file_names[index]\n",
        "        image_data=self.pil_loader(self.file_path+\"/\"+file_name)\n",
        "        if self.transform:\n",
        "            image_data = self.transform(image_data)\n",
        "        if self.train:\n",
        "            file_name_splitted=file_name.split(\"_\")\n",
        "            Y1 = self.classes_mapping[file_name_splitted[0]]\n",
        "            Y2 = self.classes_mapping[file_name_splitted[1]]\n",
        "            z1,z2=torch.zeros(10),torch.zeros(10)\n",
        "            z1[Y1-10],z2[Y2]=1,1\n",
        "            label=torch.stack([z1,z2])\n",
        "\n",
        "            return image_data, label\n",
        "\n",
        "        else:\n",
        "            return image_data, file_name\n",
        "          \n",
        "    def pil_loader(self,path):\n",
        "        with open(path, 'rb') as f:\n",
        "            img = Image.open(f)\n",
        "            return img.convert('RGB')\n",
        "\n",
        "      \n",
        "    def get_classes(self):\n",
        "        classes=[]\n",
        "        for name in self.file_names:\n",
        "            name_splitted=name.split(\"_\")\n",
        "            classes.extend([name_splitted[0],name_splitted[1]])\n",
        "        classes=list(set(classes))\n",
        "        classes_mapping={}\n",
        "        for i,cl in enumerate(sorted(classes)):\n",
        "            classes_mapping[cl]=i\n",
        "        return classes_mapping"
      ],
      "execution_count": 0,
      "outputs": []
    },
    {
      "cell_type": "code",
      "metadata": {
        "id": "Euz2vievEXlt",
        "colab_type": "code",
        "colab": {}
      },
      "source": [
        "transform1 = transforms.Compose([transforms.RandomRotation(30),\n",
        "                                       transforms.RandomResizedCrop(224),\n",
        "                                       transforms.RandomHorizontalFlip(),\n",
        "                                       transforms.ToTensor(),\n",
        "                                       transforms.Normalize([0.485, 0.456, 0.406], \n",
        "                                                            [0.229, 0.224, 0.225])])"
      ],
      "execution_count": 0,
      "outputs": []
    },
    {
      "cell_type": "code",
      "metadata": {
        "id": "Wc67z13SAYMG",
        "colab_type": "code",
        "colab": {}
      },
      "source": [
        "full_data=VowelConsonantDataset(\"../content/dataset/train\",train=True,transform=transform1)\n",
        "train_size = int(0.9 * len(full_data))\n",
        "test_size = len(full_data) - train_size\n",
        "\n",
        "train_data, validation_data = random_split(full_data, [train_size, test_size])\n",
        "\n",
        "train_loader = torch.utils.data.DataLoader(train_data, batch_size=64, shuffle=True)\n",
        "validation_loader = torch.utils.data.DataLoader(validation_data, batch_size=64, shuffle=True)\n",
        "test_data=VowelConsonantDataset(\"../content/dataset/test\",train=False)\n",
        "test_loader = torch.utils.data.DataLoader(test_data, batch_size=64,shuffle=False)"
      ],
      "execution_count": 0,
      "outputs": []
    },
    {
      "cell_type": "code",
      "metadata": {
        "id": "o4OoFNIBrOIY",
        "colab_type": "code",
        "colab": {}
      },
      "source": [
        "print(len(train_data))\n",
        "print(len(validation_data))\n",
        "print(len(full_data))\n",
        "full_data.get_classes()"
      ],
      "execution_count": 0,
      "outputs": []
    },
    {
      "cell_type": "code",
      "metadata": {
        "id": "8gCzRhMnmmIM",
        "colab_type": "code",
        "colab": {}
      },
      "source": [
        "device = torch.device(\"cuda:0\" if torch.cuda.is_available() else \"cpu\")\n",
        "print(device)"
      ],
      "execution_count": 0,
      "outputs": []
    },
    {
      "cell_type": "code",
      "metadata": {
        "id": "ucqr7l7dPEqv",
        "colab_type": "code",
        "colab": {}
      },
      "source": [
        "data_iter = iter(train_loader)\n",
        "images, labels = next(data_iter)\n",
        "print(images[0].shape,images[0].size(0))\n",
        "fig = plt.figure(figsize=(25, 4))\n",
        "for idx in np.arange(20):\n",
        "    ax = fig.add_subplot(2, 20/2, idx+1, xticks=[], yticks=[])\n",
        "    img = np.transpose(np.squeeze(images[idx]))\n",
        "    ax.imshow(img)\n",
        "print(\"\\n\\n\\n\",torch.max(labels[:,0,:],1))\n",
        "print(labels.shape)"
      ],
      "execution_count": 0,
      "outputs": []
    },
    {
      "cell_type": "code",
      "metadata": {
        "id": "a9_zSIbSmpcn",
        "colab_type": "code",
        "colab": {}
      },
      "source": [
        "class MyModel(nn.Module):\n",
        "    def __init__(self, num_classes1, num_classes2):\n",
        "        super(MyModel, self).__init__()\n",
        "        self.model_resnet = torchvision.models.resnet50(pretrained=True)\n",
        "        self.model_resnet.fc = nn.Linear(2048,1280,bias=True)\n",
        "        self.dropout = nn.Dropout(p=0.2)\n",
        "        self.fc1 = nn.Linear(1280, num_classes1,bias=True)\n",
        "        torch.nn.init.xavier_uniform_(self.fc1.weight)\n",
        "        torch.nn.init.zeros_(self.fc1.bias)\n",
        "        self.fc2 = nn.Linear(1280, num_classes2,bias=True)\n",
        "        torch.nn.init.xavier_uniform_(self.fc2.weight)\n",
        "        torch.nn.init.zeros_(self.fc2.bias)\n",
        "\n",
        "    def forward(self, x):\n",
        "        x = self.model_resnet(x)\n",
        "        drop = self.dropout(x)\n",
        "        out1 = self.fc1(x)\n",
        "        out2 = self.fc2(x)\n",
        "        return out1, out2"
      ],
      "execution_count": 0,
      "outputs": []
    },
    {
      "cell_type": "code",
      "metadata": {
        "id": "0wV9Wqf61OeB",
        "colab_type": "code",
        "colab": {}
      },
      "source": [
        "my_model = MyModel(10,10)\n",
        "loss_fn = nn.CrossEntropyLoss()\n",
        "opt = optim.SGD(my_model.parameters(),lr=0.01,momentum=0.9,nesterov=True)\n",
        "my_model.to(device)"
      ],
      "execution_count": 0,
      "outputs": []
    },
    {
      "cell_type": "code",
      "metadata": {
        "id": "-gIv4kB1m-OC",
        "colab_type": "code",
        "colab": {}
      },
      "source": [
        "def evaluation(dataloader,model):\n",
        "    total,correct=0,0\n",
        "    for data in dataloader:\n",
        "        inputs,labels=data\n",
        "        inputs,labels=inputs.to(device),labels.to(device)\n",
        "        out1,out2=my_model(inputs)\n",
        "        _,pred1=torch.max(out1.data,1)\n",
        "        _,pred2=torch.max(out2.data,1)\n",
        "        _,labels1=torch.max(labels[:,0,:].data,1)\n",
        "        _,labels2=torch.max(labels[:,1,:].data,1)\n",
        "        total+=labels.size(0)\n",
        "        fin1=(pred1==labels1)\n",
        "        fin2=(pred2==labels2)\n",
        "        \n",
        "        correct+=(fin1==fin2).sum().item()\n",
        "    return 100*correct/total"
      ],
      "execution_count": 0,
      "outputs": []
    },
    {
      "cell_type": "code",
      "metadata": {
        "id": "CaEHaeHu53fu",
        "colab_type": "code",
        "colab": {}
      },
      "source": [
        "loss_epoch_arr = []\n",
        "loss_arr = []\n",
        "min_loss = 1000\n",
        "batch_size = 64\n",
        "n_iters = np.ceil(9000/batch_size)\n",
        "epochs = 45\n",
        "for epoch in tqdm_notebook(range(epochs)):\n",
        "    count = 0\n",
        "    for i,data in enumerate(tqdm_notebook(train_loader),0):\n",
        "        my_model.train()\n",
        "        image,label = data\n",
        "        image, label = image.to(device), label.to(device)\n",
        "        opt.zero_grad()\n",
        "        out = my_model.forward(image)\n",
        "        _,ind_V = torch.max(label[:,0,:],1)\n",
        "        _,ind_C = torch.max(label[:,1,:],1)\n",
        "        loss1 = loss_fn(out[0],ind_V)\n",
        "        loss2 = loss_fn(out[1],ind_C)\n",
        "        loss = torch.add(loss1,loss2)\n",
        "        loss.backward()\n",
        "        opt.step()\n",
        "        if min_loss > loss.item():\n",
        "            min_loss = loss.item()\n",
        "            best_model = copy.deepcopy(my_model.state_dict())\n",
        "            print('Min loss %0.2f' % min_loss)\n",
        "        if i % 100 == 0:\n",
        "            print('Iteration: %d/%d, Loss: %0.2f' % (i, n_iters, loss.item()))\n",
        "        del image, label, out\n",
        "        torch.cuda.empty_cache()\n",
        "        loss_arr.append(loss.item())\n",
        "    print(\"Epoch number :\",epoch)\n",
        "    print(\"Train Accuracy :\",evaluation(train_loader,my_model))\n",
        "    print(\"Test Accuracy :\"  ,evaluation(validation_loader,my_model))\n",
        "    loss_epoch_arr.append(loss.item())\n",
        "    if epoch%10==0:\n",
        "        plt.plot(loss_arr)\n",
        "        plt.show()"
      ],
      "execution_count": 0,
      "outputs": []
    }
  ]
}