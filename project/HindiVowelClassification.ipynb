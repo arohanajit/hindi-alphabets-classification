{
  "nbformat": 4,
  "nbformat_minor": 0,
  "metadata": {
    "colab": {
      "name": "Copy of HindiVowelClassification.ipynb",
      "provenance": [],
      "private_outputs": true,
      "collapsed_sections": []
    },
    "kernelspec": {
      "name": "python3",
      "display_name": "Python 3"
    },
    "accelerator": "GPU"
  },
  "cells": [
    {
      "cell_type": "code",
      "metadata": {
        "id": "SRb3CSg6nU_x",
        "colab_type": "code",
        "colab": {}
      },
      "source": [
        "import os\n",
        "import shutil\n",
        "from zipfile import ZipFile\n",
        "from PIL import Image\n",
        "import matplotlib.pyplot as plt\n",
        "import numpy as np\n",
        "\n",
        "import torch\n",
        "import torchvision\n",
        "from torch.utils.data import DataLoader, Dataset, random_split\n",
        "import torchvision.transforms as transforms\n",
        "import torch.nn as nn\n",
        "import torch.nn.functional as F\n",
        "import torch.optim as optim\n",
        "from torchvision import datasets\n",
        "import torchvision.transforms as transforms\n",
        "from tqdm import tqdm_notebook\n",
        "import copy\n",
        "from collections import Counter\n",
        "train_on_gpu = torch.cuda.is_available()"
      ],
      "execution_count": 0,
      "outputs": []
    },
    {
      "cell_type": "code",
      "metadata": {
        "id": "LHqK84msKjiX",
        "colab_type": "code",
        "colab": {}
      },
      "source": [
        "if 'dataset' not in os.listdir():\n",
        "    os.environ['KAGGLE_USERNAME'] = \"arohanajit232\" # username from the json file\n",
        "    os.environ['KAGGLE_KEY'] = \"5289e13af33762d697c1d3c18c444f52\" # key from the json file\n",
        "    os.system('kaggle competitions download -c padhai-hindi-vowel-consonant-classification')\n",
        "    with ZipFile('test.zip', 'r') as zipObj:\n",
        "        zipObj.extractall()\n",
        "    with ZipFile('train.zip', 'r') as zipObj:\n",
        "        zipObj.extractall()\n",
        "    os.mkdir('dataset')\n",
        "    shutil.move('train','dataset/')\n",
        "    shutil.move('test','dataset/')\n",
        "    os.remove('train.zip')\n",
        "    os.remove('test.zip')\n",
        "    print(os.listdir(\"dataset\"))\n",
        "else:\n",
        "    print(\"Dataset already present!\",os.listdir(\"dataset\"))"
      ],
      "execution_count": 0,
      "outputs": []
    },
    {
      "cell_type": "code",
      "metadata": {
        "id": "eo3d93IzEVZz",
        "colab_type": "code",
        "colab": {}
      },
      "source": [
        "#For converting the dataset to torchvision dataset format\n",
        "class VowelConsonantDataset(Dataset):\n",
        "    def __init__(self, file_path,train=True,transform=None):\n",
        "        self.transform = transform\n",
        "        self.file_path=file_path\n",
        "        self.train=train\n",
        "        self.file_names=[file for _,_,files in os.walk(self.file_path) for file in files]\n",
        "        self.len = len(self.file_names)\n",
        "        if self.train:\n",
        "            self.classes_mapping=self.get_classes()\n",
        "    def __len__(self):\n",
        "        return len(self.file_names)\n",
        "    \n",
        "    def __getitem__(self, index):\n",
        "        file_name=self.file_names[index]\n",
        "        image_data=self.pil_loader(self.file_path+\"/\"+file_name)\n",
        "        if self.transform:\n",
        "            image_data = self.transform(image_data)\n",
        "        if self.train:\n",
        "            file_name_splitted=file_name.split(\"_\")\n",
        "            Y1 = self.classes_mapping[file_name_splitted[0]]\n",
        "            Y2 = self.classes_mapping[file_name_splitted[1]]\n",
        "            z1,z2=torch.zeros(10),torch.zeros(10)\n",
        "            z1[Y1-10],z2[Y2]=1,1\n",
        "            label=torch.stack([z1,z2])\n",
        "\n",
        "            return image_data, label\n",
        "\n",
        "        else:\n",
        "            return image_data, file_name\n",
        "          \n",
        "    def pil_loader(self,path):\n",
        "        with open(path, 'rb') as f:\n",
        "            img = Image.open(f)\n",
        "            return img.convert('RGB')\n",
        "\n",
        "      \n",
        "    def get_classes(self):\n",
        "        classes=[]\n",
        "        for name in self.file_names:\n",
        "            name_splitted=name.split(\"_\")\n",
        "            classes.extend([name_splitted[0],name_splitted[1]])\n",
        "        classes=list(set(classes))\n",
        "        classes_mapping={}\n",
        "        for i,cl in enumerate(sorted(classes)):\n",
        "            classes_mapping[cl]=i\n",
        "        return classes_mapping"
      ],
      "execution_count": 0,
      "outputs": []
    },
    {
      "cell_type": "code",
      "metadata": {
        "id": "Euz2vievEXlt",
        "colab_type": "code",
        "colab": {}
      },
      "source": [
        "transform1 = transforms.Compose([transforms.ToTensor()])\n",
        "\"../input/train/train\""
      ],
      "execution_count": 0,
      "outputs": []
    },
    {
      "cell_type": "code",
      "metadata": {
        "id": "Wc67z13SAYMG",
        "colab_type": "code",
        "colab": {}
      },
      "source": [
        "full_data=VowelConsonantDataset(\"../content/dataset/train\",train=True,transform=transform1)\n",
        "train_size = int(0.9 * len(full_data))\n",
        "test_size = len(full_data) - train_size\n",
        "\n",
        "train_data, validation_data = random_split(full_data, [train_size, test_size])\n",
        "\n",
        "train_loader = torch.utils.data.DataLoader(train_data, batch_size=64, shuffle=True)\n",
        "validation_loader = torch.utils.data.DataLoader(validation_data, batch_size=64, shuffle=True)\n",
        "test_data=VowelConsonantDataset(\"../content/dataset/test\",train=False)\n",
        "test_loader = torch.utils.data.DataLoader(test_data, batch_size=64,shuffle=False)"
      ],
      "execution_count": 0,
      "outputs": []
    },
    {
      "cell_type": "code",
      "metadata": {
        "id": "o4OoFNIBrOIY",
        "colab_type": "code",
        "colab": {}
      },
      "source": [
        "print(len(train_data))\n",
        "print(len(validation_data))\n",
        "print(len(full_data))\n",
        "print(full_data.get_classes())\n",
        "vclass,cclass=[],[]\n",
        "for i in full_data.get_classes():\n",
        "    if i[0]=='V':\n",
        "        vclass.append(int(i[1]))\n",
        "    else:\n",
        "        cclass.append(int(i[1]))\n",
        "print(vclass,cclass)"
      ],
      "execution_count": 0,
      "outputs": []
    },
    {
      "cell_type": "code",
      "metadata": {
        "id": "8gCzRhMnmmIM",
        "colab_type": "code",
        "colab": {}
      },
      "source": [
        "device = torch.device(\"cuda:0\" if torch.cuda.is_available() else \"cpu\")\n",
        "print(device)"
      ],
      "execution_count": 0,
      "outputs": []
    },
    {
      "cell_type": "code",
      "metadata": {
        "id": "ucqr7l7dPEqv",
        "colab_type": "code",
        "colab": {}
      },
      "source": [
        "data_iter = iter(train_loader)\n",
        "images, labels = next(data_iter)\n",
        "print(images[0].shape,images[0].size(0))\n",
        "fig = plt.figure(figsize=(25, 4))\n",
        "for idx in np.arange(20):\n",
        "    ax = fig.add_subplot(2, 20/2, idx+1, xticks=[], yticks=[])\n",
        "    img = np.transpose(np.squeeze(images[idx]))\n",
        "    ax.imshow(img)\n",
        "print(\"\\n\\n\\n\",torch.max(labels[:,0,:],1))\n",
        "print(labels.shape)"
      ],
      "execution_count": 0,
      "outputs": []
    },
    {
      "cell_type": "code",
      "metadata": {
        "id": "aCE8fdNE7fqJ",
        "colab_type": "code",
        "colab": {}
      },
      "source": [
        "vowelCounter = Counter()\n",
        "consonantCounter =  Counter()\n",
        "for _,label in train_loader:\n",
        "    _,vowel = torch.max(label[:,0,:],1)\n",
        "    _,consonant = torch.max(label[:,1,:],1)\n",
        "    vowelCounter.update(vowel.tolist())\n",
        "    consonantCounter.update(consonant.tolist())"
      ],
      "execution_count": 0,
      "outputs": []
    },
    {
      "cell_type": "code",
      "metadata": {
        "id": "_g2OAx5F9FhE",
        "colab_type": "code",
        "colab": {}
      },
      "source": [
        "print(vowelCounter)\n",
        "print(consonantCounter)\n",
        "vvalues,cvalues=[],[]\n",
        "for i in vclass:\n",
        "    vvalues.append(vowelCounter[i])\n",
        "for i in cclass:\n",
        "    cvalues.append(consonantCounter[i])\n",
        "print(vclass,vvalues)\n",
        "print(cclass,cvalues)\n",
        "fig,(ax1,ax2) = plt.subplots(1,2,figsize=(20,5))\n",
        "ax1.bar(vclass,vvalues)\n",
        "ax1.set_title('Vowel class distribution')\n",
        "ax2.bar(cclass,cvalues)\n",
        "ax2.set_title('Consonant class distribution')"
      ],
      "execution_count": 0,
      "outputs": []
    },
    {
      "cell_type": "code",
      "metadata": {
        "id": "zorkwEmC0F0L",
        "colab_type": "code",
        "colab": {}
      },
      "source": [
        "v_model = torchvision.models.resnet50(pretrained=True)\n",
        "c_model = torchvision.models.resnet50(pretrained=True)\n",
        "v_model.fc = nn.Linear(2048,10,bias=True)\n",
        "c_model.fc = nn.Linear(2048,10,bias=True)"
      ],
      "execution_count": 0,
      "outputs": []
    },
    {
      "cell_type": "code",
      "metadata": {
        "id": "xlhlWpjf0Sp0",
        "colab_type": "code",
        "colab": {}
      },
      "source": [
        "opt_v = optim.Adam(v_model.parameters())\n",
        "opt_c = optim.Adam(c_model.parameters())\n",
        "loss_fnv = nn.CrossEntropyLoss()\n",
        "loss_fnc = nn.CrossEntropyLoss()"
      ],
      "execution_count": 0,
      "outputs": []
    },
    {
      "cell_type": "code",
      "metadata": {
        "id": "jow2CbZLMNzG",
        "colab_type": "code",
        "colab": {}
      },
      "source": [
        "def evaluation(dataloader,vmodel,cmodel):\n",
        "    total,correctv,correctc=0,0,0\n",
        "    for data in dataloader:\n",
        "        inputs,labels=data\n",
        "        inputs,labels=inputs.to(device),labels.to(device)\n",
        "        _,outv = torch.max(vmodel(inputs),1)\n",
        "        _,outc = torch.max(cmodel(inputs),1)\n",
        "        _,labelsv=torch.max(labels[:,0,:].data,1)\n",
        "        _,labelsc=torch.max(labels[:,1,:].data,1)\n",
        "        total+=labels.size(0)\n",
        "        correctv+=(outv==labelsv).sum().item()\n",
        "        correctc+=(outc==labelsc).sum().item()\n",
        "        vacc = 100*correctv/total\n",
        "        cacc = 100*correctc/total\n",
        "        \n",
        "    return vacc,cacc"
      ],
      "execution_count": 0,
      "outputs": []
    },
    {
      "cell_type": "code",
      "metadata": {
        "id": "SEIUIUsLdu4z",
        "colab_type": "code",
        "colab": {}
      },
      "source": [
        "def Graphing(loss_arr,loss_epoch_arr,trainv_acc,trainc_acc,valv_acc,valc_acc):\n",
        "    fig,(axes) = plt.subplots(2,2,figsize=(20,5))\n",
        "    axes[0,0].plot(loss_arr)\n",
        "    axes[0,0].set_title('Overall Loss')\n",
        "    axes[0,1].plot(loss_epoch_arr)\n",
        "    axes[0,1].set_title('Loss per Epoch')\n",
        "    axes[1,0].plot(trainv_acc)\n",
        "    axes[1,0].plot(trainc_acc)\n",
        "    axes[1,0].legend(['Vowel','Consonant'])\n",
        "    axes[1,0].set_title('Train Accuracy')\n",
        "    axes[1,1].plot(valv_acc)\n",
        "    axes[1,1].plot(valc_acc)\n",
        "    axes[1,1].legend(['Vowel','Consonant'])\n",
        "    axes[1,1].set_title('Validation Accuracy')"
      ],
      "execution_count": 0,
      "outputs": []
    },
    {
      "cell_type": "code",
      "metadata": {
        "colab_type": "code",
        "id": "q6nTE7Ue6P8t",
        "colab": {}
      },
      "source": [
        "loss_epoch_arr = []\n",
        "loss_arr = []\n",
        "batch_size = 64\n",
        "n_iters = np.ceil(9000/batch_size)\n",
        "epochs = 45\n",
        "min_loss = 100000\n",
        "v_model.to(device)\n",
        "c_model.to(device)\n",
        "trainv_acc = []\n",
        "trainc_acc = []\n",
        "valv_acc = []\n",
        "valc_acc = []\n",
        "for epoch in tqdm_notebook(range(epochs)):\n",
        "    for i,data in enumerate(tqdm_notebook(train_loader),0):\n",
        "        v_model.train()\n",
        "        c_model.train()\n",
        "        image,label = data\n",
        "        image, label = image.to(device), label.to(device)\n",
        "        opt_v.zero_grad()\n",
        "        opt_c.zero_grad()\n",
        "        out_v = v_model(image)\n",
        "        out_c = c_model(image)\n",
        "        _,ind_v = torch.max(label[:,0,:],1)\n",
        "        _,ind_c = torch.max(label[:,1,:],1)\n",
        "        loss_v = loss_fnv(out_v,ind_v)\n",
        "        loss_c = loss_fnc(out_c,ind_c)\n",
        "        loss = torch.add(loss_v,loss_c)\n",
        "        loss.backward()\n",
        "        opt_v.step()\n",
        "        opt_c.step()\n",
        "        if min_loss > loss.item():\n",
        "            min_loss = loss.item()\n",
        "            best_modelv = copy.deepcopy(v_model.state_dict())\n",
        "            best_modelc = copy.deepcopy(c_model.state_dict())\n",
        "            print('Min loss %0.2f' % min_loss)\n",
        "        if i % 100 == 0:\n",
        "            print('Iteration: %d/%d, Loss: %0.2f' % (i, n_iters, loss.item()))\n",
        "        del image, label, out_v,out_c\n",
        "        torch.cuda.empty_cache()\n",
        "        loss_arr.append(loss.item())\n",
        "    loss_epoch_arr.append(loss.item())\n",
        "    print(\"Epoch: {}\".format(epoch))\n",
        "    tempv,tempc = evaluation(train_loader,v_model,c_model)\n",
        "    trainv_acc.append(tempv)\n",
        "    trainc_acc.append(tempc)\n",
        "    print(\"Train Accuarcy: Vowel: {} Consonants: {}\".format(tempv,tempc))\n",
        "    tempv,tempc = evaluation(validation_loader,v_model,c_model)\n",
        "    valv_acc.append(tempv)\n",
        "    valc_acc.append(tempc)\n",
        "    print(\"Validation Accuarcy: Vowel: {} Consonants: {}\".format(tempv,tempc))\n",
        "Graphing(loss_arr,loss_epoch_arr,trainv_acc,trainc_acc,valv_acc,valc_acc)"
      ],
      "execution_count": 0,
      "outputs": []
    },
    {
      "cell_type": "code",
      "metadata": {
        "id": "o78PffQpOj0V",
        "colab_type": "code",
        "colab": {}
      },
      "source": [
        ""
      ],
      "execution_count": 0,
      "outputs": []
    }
  ]
}